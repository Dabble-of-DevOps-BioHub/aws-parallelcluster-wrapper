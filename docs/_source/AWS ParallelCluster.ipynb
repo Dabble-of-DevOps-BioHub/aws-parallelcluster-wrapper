{
 "cells": [
  {
   "cell_type": "markdown",
   "id": "fundamental-fleet",
   "metadata": {},
   "source": [
    "# AWS ParallelCluster Programmatic Configuration\n",
    "\n",
    "Investigate the pcluster configure argument "
   ]
  },
  {
   "cell_type": "code",
   "execution_count": 98,
   "id": "dynamic-killing",
   "metadata": {},
   "outputs": [],
   "source": [
    "import pcluster\n",
    "import pcluster.configure.easyconfig as easyconfig\n",
    "import requests\n",
    "import random\n",
    "\n",
    "from pcluster.cluster_model import ClusterModel\n",
    "from pcluster.config.hit_converter import HitConverter\n",
    "from pcluster.config.pcluster_config import PclusterConfig\n",
    "from pcluster.config.validators import HEAD_NODE_UNSUPPORTED_INSTANCE_TYPES, HEAD_NODE_UNSUPPORTED_MESSAGE\n",
    "from pcluster.configure.networking import (\n",
    "    NetworkConfiguration,\n",
    "    PublicPrivateNetworkConfig,\n",
    "    automate_subnet_creation,\n",
    "    automate_vpc_with_subnet_creation,\n",
    ")\n",
    "from pcluster.configure.utils import get_regions, get_resource_tag, handle_client_exception, prompt, prompt_iterable\n",
    "from pcluster.utils import (\n",
    "    error,\n",
    "    get_default_instance_type,\n",
    "    get_region,\n",
    "    get_supported_az_for_multi_instance_types,\n",
    "    get_supported_az_for_one_instance_type,\n",
    "    get_supported_compute_instance_types,\n",
    "    get_supported_instance_types,\n",
    "    get_supported_os_for_scheduler,\n",
    "    get_supported_schedulers,\n",
    ")\n",
    "from pcluster.configure.easyconfig import ClusterConfigureHelper\n",
    "\n",
    "import json\n",
    "import logging\n",
    "import os\n",
    "import sys\n",
    "from collections import OrderedDict\n",
    "import boto3\n",
    "import tempfile\n",
    "import string\n",
    "\n",
    "from datetime import datetime\n",
    "from jinja2 import Environment, BaseLoader\n",
    "\n",
    "#ID = datetime.today().strftime('%Y%m%d')\n",
    "ID = '20210127'"
   ]
  },
  {
   "cell_type": "markdown",
   "id": "statutory-kenya",
   "metadata": {},
   "source": [
    "## Create A Project ID\n",
    "\n",
    "Create a random project ID for the state, buckets, etc."
   ]
  },
  {
   "cell_type": "code",
   "execution_count": 5,
   "id": "future-visibility",
   "metadata": {},
   "outputs": [
    {
     "data": {
      "text/plain": [
       "'cjwow221'"
      ]
     },
     "execution_count": 5,
     "metadata": {},
     "output_type": "execute_result"
    }
   ],
   "source": [
    "#ID = datetime.today().strftime('%Y%m%d')\n",
    "ID = '20210127'\n",
    "\n",
    "N = 6\n",
    "random_string = ''.join(random.choices(string.ascii_lowercase + string.digits, k=N))\n",
    "random_string"
   ]
  },
  {
   "cell_type": "markdown",
   "id": "bottom-education",
   "metadata": {},
   "source": [
    "Before we get to to this point we should have:\n",
    "    \n",
    "    * Terraform State \n",
    "    \n",
    "    Then with terraform we create the following: \n",
    "    \n",
    "    * S3 Bucket Installation\n",
    "    * S3 Bucket User Admin\n",
    "    * EC2 Keypair\n",
    "    * Custom AMI \n",
    "    * Additional Security Group"
   ]
  },
  {
   "cell_type": "markdown",
   "id": "documented-hydrogen",
   "metadata": {},
   "source": [
    "This is what the pcluster file ends up looking like:\n",
    "\n",
    "```\n",
    "[aws]\n",
    "aws_region_name = {{cookiecutter.aws_region}}\n",
    "\n",
    "[aliases]\n",
    "ssh = ssh {CFN_USER}@{MASTER_IP} {ARGS}\n",
    "\n",
    "[global]\n",
    "cluster_template = default\n",
    "update_check = true\n",
    "sanity_check = true\n",
    "\n",
    "[cluster default]\n",
    "key_name = slurm-2.10.0-us-east-1\n",
    "base_os = alinux2\n",
    "scheduler = slurm\n",
    "master_instance_type = t3a.medium\n",
    "vpc_settings = default\n",
    "queue_settings = compute,extralarge\n",
    "custom_ami = {{cookiecutter.custom_ami_id}}\n",
    "\n",
    "s3_read_resource = arn:aws:s3:::{{cookiecutter.installation_bucket}}/*\n",
    "post_install = s3://{{cookiecutter.installation_bucket}}/install_all_the_things.sh\n",
    "\n",
    "[vpc default]\n",
    "vpc_id = {{cookiecutter.vpc_id}}\n",
    "master_subnet_id = {{cookiecutter.master_subnet_id}}\n",
    "compute_subnet_id = {{cookiecutter.compute_subnet_id}}\n",
    "use_public_ips = false\n",
    "additional_sg = {{cookiecutter.additional_security_group}}\n",
    "\n",
    "[queue compute]\n",
    "enable_efa = false\n",
    "enable_efa_gdr = false\n",
    "compute_resource_settings = littlemem,bigmem,mediummem\n",
    "\n",
    "[compute_resource littlemem]\n",
    "instance_type = t3a.medium\n",
    "max_count = 1000\n",
    "\n",
    "[compute_resource mediummem]\n",
    "instance_type = t3a.large\n",
    "max_count = 1000\n",
    "\n",
    "[compute_resource bigmem]\n",
    "instance_type = t3.2xlarge\n",
    "max_count = 1000\n",
    "\n",
    "[queue extralarge]\n",
    "enable_efa = false\n",
    "enable_efa_gdr = false\n",
    "compute_resource_settings = extralarge\n",
    "\n",
    "[compute_resource extralarge]\n",
    "instance_type = m4.10xlarge\n",
    "max_count = 1000\n",
    "```"
   ]
  },
  {
   "cell_type": "code",
   "execution_count": 100,
   "id": "advisory-marks",
   "metadata": {},
   "outputs": [],
   "source": [
    "pcluster_template = \"\"\"[aws]\n",
    "aws_region_name = {{cookiecutter.aws_region}}\n",
    "\n",
    "[aliases]\n",
    "ssh = ssh {CFN_USER}@{MASTER_IP} {ARGS}\n",
    "\n",
    "[global]\n",
    "cluster_template = default\n",
    "update_check = true\n",
    "sanity_check = true\n",
    "\n",
    "[cluster default]\n",
    "key_name = slurm-2.10.0-us-east-1\n",
    "base_os = alinux2\n",
    "scheduler = slurm\n",
    "master_instance_type = t3a.medium\n",
    "vpc_settings = default\n",
    "queue_settings = compute,extralarge\n",
    "custom_ami = {{cookiecutter.custom_ami_id}}\n",
    "\n",
    "s3_read_resource = arn:aws:s3:::{{cookiecutter.s3_installation_bucket}}/*\n",
    "post_install = s3://{{cookiecutter.s3_installation_bucket}}/install_all_the_things.sh\n",
    "\n",
    "[vpc default]\n",
    "vpc_id = {{cookiecutter.vpc_id}}\n",
    "master_subnet_id = {{cookiecutter.master_subnet_id}}\n",
    "compute_subnet_id = {{cookiecutter.compute_subnet_id}}\n",
    "use_public_ips = false\n",
    "additional_sg = {{cookiecutter.additional_security_group_id}}\n",
    "\n",
    "{% for queue in cookiecutter.queues %}\n",
    "[queue {{queue.name}}]\n",
    "enable_efa = false\n",
    "enable_efa_gdr = false\n",
    "compute_resource_settings = {{queue.compute_resource_settings}}\n",
    "{% endfor %}\n",
    "\n",
    "{% for compute_resource in cookiecutter.compute_resources %}\n",
    "[compute_resource {{compute_resource.name}}]\n",
    "instance_type = {{compute_resource.instance_type}}\n",
    "min_count = {{compute_resource.min_count}}  \n",
    "max_count = {{compute_resource.max_count}}      \n",
    "{% endfor %}\n",
    "\"\"\""
   ]
  },
  {
   "cell_type": "code",
   "execution_count": 33,
   "id": "severe-vacuum",
   "metadata": {},
   "outputs": [],
   "source": [
    "PCLUSTER_VERSION='2.10.1'\n",
    "AMIS_LIST='https://raw.githubusercontent.com/aws/aws-parallelcluster/v{version}/amis.txt'.format(version=PCLUSTER_VERSION)"
   ]
  },
  {
   "cell_type": "code",
   "execution_count": 204,
   "id": "adolescent-identifier",
   "metadata": {},
   "outputs": [
    {
     "data": {
      "text/plain": [
       "'/tmp/tmpeww20hi5'"
      ]
     },
     "execution_count": 204,
     "metadata": {},
     "output_type": "execute_result"
    }
   ],
   "source": [
    "tconfig = tempfile.NamedTemporaryFile(delete=False)\n",
    "tconfig.name"
   ]
  },
  {
   "cell_type": "code",
   "execution_count": 205,
   "id": "lesser-cabin",
   "metadata": {},
   "outputs": [],
   "source": [
    "pcluster_config = PclusterConfig(config_file=tconfig.name, fail_on_error=False, auto_refresh=False)"
   ]
  },
  {
   "cell_type": "code",
   "execution_count": 84,
   "id": "amended-dynamics",
   "metadata": {},
   "outputs": [],
   "source": [
    "# These are all variables that will be passed in and supplied through cookiecutter\n",
    "# We'll also grab the terraform output\n",
    "# We'll use pcluster to create the subnets because it's very picky about subnets\n",
    "\n",
    "CONFIG = {\n",
    "    'id': ID,\n",
    "    'hosted_zone_id': '',\n",
    "    'project': 'slurm-cluster',\n",
    "    'stage': 'development',\n",
    "    'vpc_id': 'vpc-2658435c',\n",
    "    'cloudformation_stack': 'parallelcluster-{{cookiecutter.project}}-{{cookiecutter.id}}-{{cookiecutter.stage}}',\n",
    "    # These all get read in from terraform\n",
    "    's3_installation_bucket': \"{{cookiecutter.project}}-{{cookiecutter.id}}-{{cookiecutter.stage}}-installation\",\n",
    "    's3_user_data_bucket': \"{{cookiecutter.project}}-{{cookiecutter.id}}-{{cookiecutter.stage}}-user-data\",\n",
    "    's3_admin_bucket': \"{{cookiecutter.project}}-{{cookiecutter.id}}-{{cookiecutter.stage}}-admin\",\n",
    "    'aws_region': 'us-east-1',\n",
    "    'tags': {\n",
    "        'Name': '{{cookiecutter.project}}-{{cookiecutter.id}}-{{cookiecutter.stage}}',\n",
    "        'Project': '{{cookiecutter.project}}',\n",
    "        'Stage': '{{cookiecutter.stage}}',\n",
    "\n",
    "    },\n",
    "    # Terraform recipe vars\n",
    "    'terraform_recipes': {\n",
    "        # Bootstrap the state\n",
    "        'terraform_state': 'terraform-state',\n",
    "        # Supply the resources, build the custom AMI\n",
    "        'pcluster_resources': 'pcluster-resources',\n",
    "        # After install all the apps - easybuild, modules, etc\n",
    "        'pcluster_apps': 'pcluster-apps',\n",
    "    },\n",
    "    # Terraform state Vars\n",
    "    # these end up looking different because the module tacks on some names\n",
    "    \"terraform_state\": {\n",
    "        \"s3_bucket\": \"{{cookiecutter.project}}-{{cookiecutter.id}}\",\n",
    "        \"s3_bucket_full_name\": \"{{cookiecutter.project}}-{{cookiecutter.id}}-{{cookiecutter.stage}}-terraform-state\",\n",
    "        \"dynamo_db_table\": \"{{cookiecutter.project}}-{{cookiecutter.id}}-{{cookiecutter.stage}}-terraform-state-lock\",\n",
    "    },\n",
    "    # Store the terraform output\n",
    "    'terraform_output': {\n",
    "        'terraform_state': {},\n",
    "        'pcluster_resources': {},\n",
    "        'pcluster_apps': {},\n",
    "    },\n",
    "    # PCluster Vars\n",
    "    'pcluster': {\n",
    "        'master_instance_type': 't3a.2xlarge',\n",
    "        'scheduler': 'slurm',\n",
    "        'base_os': 'alinux2',\n",
    "        'pcluster_version': '2.10.1',\n",
    "        'key_pair': '',\n",
    "        'min_cluster_size': 0,\n",
    "        'max_cluster_size': 100,\n",
    "        'head_node_instance_type': 't3a.2xlarge',\n",
    "        # This doesn't matter because we're using queues\n",
    "        # But still used\n",
    "        'compute_node_instance_type': 't3a.2xlarge',\n",
    "        'master_subnet_id': '',\n",
    "        'compute_subnet_id': '',\n",
    "        'compute_resources': [\n",
    "            {\n",
    "                'instance_type': 't3a.medium',\n",
    "                'min_count': 0,\n",
    "                'max_count': 100,\n",
    "            },\n",
    "            {\n",
    "                'instance_type': 't3a.large',\n",
    "                'min_count': 0,\n",
    "                'max_count': 100,\n",
    "            },\n",
    "            {\n",
    "                'instance_type': 't3a.2xlarge',\n",
    "                'min_count': 0,\n",
    "                'max_count': 100,\n",
    "            },\n",
    "            {\n",
    "                'instance_type': 'm4.large',\n",
    "                'min_count': 0,\n",
    "                'max_count': 100,\n",
    "            },\n",
    "            {\n",
    "                'instance_type': 'm4.xlarge',\n",
    "                'min_count': 0,\n",
    "                'max_count': 100,\n",
    "            },\n",
    "            {\n",
    "                'instance_type': 'm4.2xlarge',\n",
    "                'min_count': 0,\n",
    "                'max_count': 100,\n",
    "            },\n",
    "            {\n",
    "                'instance_type': 'g4dn.xlarge',\n",
    "                'min_count': 0,\n",
    "                'max_count': 100,\n",
    "            },\n",
    "            {\n",
    "                'instance_type': 'g4dn.2xlarge',\n",
    "                'min_count': 0,\n",
    "                'max_count': 100,\n",
    "            },\n",
    "            {\n",
    "                'instance_type': 'g4dn.4xlarge',\n",
    "                'min_count': 0,\n",
    "                'max_count': 100,\n",
    "            },\n",
    "        ],\n",
    "        'queues': [\n",
    "            {\n",
    "                'name': 'dev',\n",
    "                'enable_efa': False,\n",
    "                'enable_efa_gdr': False,\n",
    "                'compute_resource_instance_types': ['t3a.medium', 't3a.large', 't3a.2xlarge'],\n",
    "            },\n",
    "            {\n",
    "                'name': 'cpu',\n",
    "                'enable_efa': False,\n",
    "                'enable_efa_gdr': False,\n",
    "                'compute_resource_instance_types': ['m4.large', 'm4.xlarge', 'm4.2xlarge'],\n",
    "            },\n",
    "            {\n",
    "                'name': 'gpu',\n",
    "                'enable_efa': False,\n",
    "                'enable_efa_gdr': False,\n",
    "                'compute_resource_instance_types': ['g4dn.xlarge', 'g4dn.2xlarge', 'g4dn.4xlarge'],\n",
    "            },\n",
    "        ],\n",
    "        'queue_settings': '',\n",
    "        'efs_resources': [\n",
    "            {\n",
    "                \"name\": \"apps\",\n",
    "                \"efs_id\": False,\n",
    "                \"performance_mode\": \"generalPurpose\"\n",
    "            },\n",
    "            {\n",
    "                \"name\": \"scratch\",\n",
    "                \"efs_id\": False,\n",
    "                \"performance_mode\": \"maxIO\"\n",
    "            }\n",
    "        ],\n",
    "    }\n",
    "}\n",
    "\n",
    "\n",
    "BASE_DIR='/home/jovyan/TEST_APP/'\n",
    "with open(os.path.join(BASE_DIR, 'cookiecutter.json)', 'w') as outfile:\n",
    "    json.dump(CONFIG, outfile, indent=4)    \n",
    "\n",
    "with open('/home/jovyan/app/aws_parallelcluster_wrapper/_cookiecutter_templates/terraform-modules/pcluster-resources/{{cookiecutter.terraform_recipes.pcluster_resources}}/cookiecutter.json', 'w') as outfile:\n",
    "    json.dump(CONFIG, outfile, indent=4)\n",
    "    \n",
    "with open('/home/jovyan/app/aws_parallelcluster_wrapper/_cookiecutter_templates/terraform-modules/pcluster-resources/cookiecutter.json', 'w') as outfile:\n",
    "    json.dump(CONFIG, outfile, indent=4)\n",
    "    \n",
    "with open('/home/jovyan/app/aws_parallelcluster_wrapper/_cookiecutter_templates/terraform-modules/pcluster-apps/cookiecutter.json', 'w') as outfile:\n",
    "    json.dump(CONFIG, outfile, indent=4)\n",
    "      "
   ]
  },
  {
   "cell_type": "markdown",
   "id": "strategic-fruit",
   "metadata": {},
   "source": [
    "## PConfig Cluster Section"
   ]
  },
  {
   "cell_type": "code",
   "execution_count": 191,
   "id": "twelve-attention",
   "metadata": {},
   "outputs": [],
   "source": [
    "cluster_section = pcluster_config.get_section(\"cluster\")\n",
    "\n",
    "global_config = pcluster_config.get_section(\"global\")\n",
    "cluster_label = global_config.get_param_value(\"cluster_template\")\n",
    "\n",
    "vpc_section = pcluster_config.get_section(\"vpc\")\n",
    "vpc_label = vpc_section.label\n",
    "vpc_parameters = {}"
   ]
  },
  {
   "cell_type": "markdown",
   "id": "unable-cookie",
   "metadata": {},
   "source": [
    "## Set Variables from our Config"
   ]
  },
  {
   "cell_type": "code",
   "execution_count": 131,
   "id": "guided-click",
   "metadata": {},
   "outputs": [],
   "source": [
    "cluster_config = ClusterConfigureHelper(cluster_section, CONFIG['scheduler'])\n",
    "cluster_config.max_cluster_size = CONFIG['max_cluster_size']\n",
    "cluster_config.head_node_instance_type = CONFIG['head_node_instance_type']\n",
    "cluster_config.compute_node_instance_type = CONFIG['compute_node_instance_type']"
   ]
  },
  {
   "cell_type": "markdown",
   "id": "different-forwarding",
   "metadata": {},
   "source": [
    "### Region\n",
    "\n",
    "Just run a check here to make sure that there is a valid region."
   ]
  },
  {
   "cell_type": "code",
   "execution_count": 132,
   "id": "hired-career",
   "metadata": {},
   "outputs": [],
   "source": [
    "#available_regions = get_regions()\n",
    "\n",
    "# London\n",
    "# region = 'eu-west-2'\n",
    "os.environ[\"AWS_DEFAULT_REGION\"] = CONFIG['aws_region']\n",
    "\n",
    "pcluster_config.region = region"
   ]
  },
  {
   "cell_type": "markdown",
   "id": "robust-increase",
   "metadata": {},
   "source": [
    "### EC2 Key Pairs"
   ]
  },
  {
   "cell_type": "code",
   "execution_count": 133,
   "id": "regional-joyce",
   "metadata": {},
   "outputs": [
    {
     "data": {
      "text/plain": [
       "['pfaffmanager_key']"
      ]
     },
     "execution_count": 133,
     "metadata": {},
     "output_type": "execute_result"
    }
   ],
   "source": [
    "ec2_key_pairs = easyconfig._get_keys()\n",
    "ec2_key_pairs"
   ]
  },
  {
   "cell_type": "markdown",
   "id": "black-intro",
   "metadata": {},
   "source": [
    "### Networking"
   ]
  },
  {
   "cell_type": "code",
   "execution_count": 140,
   "id": "generic-breast",
   "metadata": {},
   "outputs": [],
   "source": [
    "# Validation\n",
    "# This would be a very good check to do\n",
    "#azs_for_head_node_type = get_supported_az_for_one_instance_type(cluster_config.head_node_instance_type)\n",
    "#azs_for_compute_type = get_supported_az_for_one_instance_type(cluster_config.compute_instance_type)\n",
    "#common_availability_zones = set(azs_for_head_node_type) & set(azs_for_compute_type)"
   ]
  },
  {
   "cell_type": "code",
   "execution_count": 158,
   "id": "senior-three",
   "metadata": {},
   "outputs": [],
   "source": [
    "vpcs_and_subnets = easyconfig._get_vpcs_and_subnets()\n",
    "#vpcs_and_subnets\n",
    "#vpc_id = vpcs_and_subnets['vpc_list'][0]['id']\n",
    "vpc_id = CONFIG['vpc_id']"
   ]
  },
  {
   "cell_type": "code",
   "execution_count": 159,
   "id": "disabled-width",
   "metadata": {},
   "outputs": [],
   "source": [
    "vpc_parameters[\"vpc_id\"] = vpc_id\n",
    "subnet_list = vpcs_and_subnets[\"vpc_subnets\"][vpc_id]\n",
    "#subnet_list"
   ]
  },
  {
   "cell_type": "markdown",
   "id": "decent-designer",
   "metadata": {},
   "source": [
    "### Automate Subnet Creation - IMPORTANT\n",
    "\n",
    "This is the main step in this module. PCluster is real picky about it's subnets so we make sure to use the bootstrap."
   ]
  },
  {
   "cell_type": "code",
   "execution_count": 152,
   "id": "following-victim",
   "metadata": {},
   "outputs": [],
   "source": [
    "min_subnet_size = int(cluster_config.max_cluster_size)\n",
    "networking_configuration = PublicPrivateNetworkConfig()\n",
    "#subnets = automate_subnet_creation(vpc_id, networking_configuration, min_subnet_size)"
   ]
  },
  {
   "cell_type": "code",
   "execution_count": 162,
   "id": "industrial-tribe",
   "metadata": {},
   "outputs": [],
   "source": [
    "vpcs_and_subnets = easyconfig._get_vpcs_and_subnets()\n",
    "subnet_list = vpcs_and_subnets[\"vpc_subnets\"][vpc_id]\n",
    "#subnet_list"
   ]
  },
  {
   "cell_type": "code",
   "execution_count": 157,
   "id": "august-police",
   "metadata": {},
   "outputs": [
    {
     "name": "stdout",
     "output_type": "stream",
     "text": [
      "OrderedDict([('id', 'subnet-0e283ed98f1b6b0d2'), ('name', 'ParallelClusterPrivateSubnet'), ('size', 4096), ('availability_zone', 'us-east-1d')])\n",
      "OrderedDict([('id', 'subnet-0322108492fd84a41'), ('name', 'ParallelClusterPublicSubnet'), ('size', 256), ('availability_zone', 'us-east-1b')])\n"
     ]
    }
   ],
   "source": [
    "def get_private_subnet(subnet_list):\n",
    "    for subnet in subnet_list:\n",
    "        if subnet['name'] == 'ParallelClusterPrivateSubnet':\n",
    "            return subnet\n",
    "        \n",
    "def get_public_subnet(subnet_list):\n",
    "    for subnet in subnet_list:\n",
    "        if subnet['name'] == 'ParallelClusterPublicSubnet':\n",
    "            return subnet\n",
    "        \n",
    "private_subnet = get_private_subnet(subnet_list)\n",
    "public_subnet = get_public_subnet(subnet_list)"
   ]
  },
  {
   "cell_type": "code",
   "execution_count": 207,
   "id": "second-funeral",
   "metadata": {},
   "outputs": [],
   "source": [
    "master_subnet_id = public_subnet['id']\n",
    "compute_subnet_id = private_subnet['id']\n",
    "CONFIG['master_subnet_id'] = master_subnet_id\n",
    "CONFIG['compute_subnet_id'] = compute_subnet_id"
   ]
  },
  {
   "cell_type": "markdown",
   "id": "intimate-mongolia",
   "metadata": {},
   "source": [
    "## Scheduler"
   ]
  },
  {
   "cell_type": "code",
   "execution_count": 208,
   "id": "chief-nirvana",
   "metadata": {},
   "outputs": [],
   "source": [
    "# For now only supporting slurm, but this may be good to have\n",
    "# Validators for web ui\n",
    "schedulers = get_supported_schedulers()\n",
    "supported_oses = get_supported_os_for_scheduler(scheduler)"
   ]
  },
  {
   "cell_type": "code",
   "execution_count": 209,
   "id": "cultural-region",
   "metadata": {},
   "outputs": [
    {
     "data": {
      "text/plain": [
       "<pcluster.configure.easyconfig.ClusterConfigureHelper at 0x7f598743fc40>"
      ]
     },
     "execution_count": 209,
     "metadata": {},
     "output_type": "execute_result"
    }
   ],
   "source": [
    "cluster_config = ClusterConfigureHelper(cluster_section, scheduler)\n",
    "cluster_config"
   ]
  },
  {
   "cell_type": "code",
   "execution_count": 210,
   "id": "communist-equality",
   "metadata": {},
   "outputs": [],
   "source": [
    "# This will go in the Plugin and Web UI\n",
    "#supported_instance_types_head = get_supported_instance_types()\n",
    "#supported_instance_types_compute = get_supported_compute_instance_types(scheduler)\n",
    "#supported_instance_types_head.sort()\n",
    "#supported_instance_types_compute.sort()"
   ]
  },
  {
   "cell_type": "markdown",
   "id": "pleased-fantasy",
   "metadata": {},
   "source": [
    "## Queues and Compute Resources\n",
    "\n",
    "The format is [compute_resource <compute-resource-name>]. compute-resource-name must start with a letter, contain no more than 30 characters, and only contain letters, numbers, hyphens (-), and underscores (_).\n",
    "    \n",
    "The format is [queue <queue-name>]. queue-name must start with a lowercase letter, contain no more than 30 characters, and only contain lowercase letters, numbers, and hyphens (-).\n",
    "\n",
    "At any time, there can be between zero (0) and the max number of dynamic nodes in a [compute_resource].\n",
    "    \n",
    "compute_resource_settings\n",
    "\n",
    "(Required) Identifies the [compute_resource] sections containing the compute resources configurations for this queue. The section names must start with a letter, contain no more than 30 characters, and only contain letters, numbers, hyphens (-), and underscores (_).\n",
    "\n",
    "*Up to three (3) [compute_resource] sections are supported for each [queue] section.*"
   ]
  },
  {
   "cell_type": "code",
   "execution_count": 211,
   "id": "satellite-correspondence",
   "metadata": {},
   "outputs": [
    {
     "name": "stdout",
     "output_type": "stream",
     "text": [
      "{'name': 'dev', 'enable_efa': False, 'enable_efa_gdr': False, 'compute_resource_instance_types': ['t3a.medium', 't3a.2xlarge'], 'compute_resource_settings': 't3a-medium,t3a-2xlarge'}\n",
      "{'name': 'cpu', 'enable_efa': False, 'enable_efa_gdr': False, 'compute_resource_instance_types': ['t3a.medium', 't3a.2xlarge'], 'compute_resource_settings': 't3a-medium,t3a-2xlarge'}\n",
      "{'name': 'gpu', 'enable_efa': False, 'enable_efa_gdr': False, 'compute_resource_instance_types': ['t3a.medium', 't3a.2xlarge'], 'compute_resource_settings': 't3a-medium,t3a-2xlarge'}\n"
     ]
    }
   ],
   "source": [
    "## Clean up queue and compute resources\n",
    "## TODO Write Validator that - contain no more than 30 characters, and only contain letters, numbers, hyphens (-), and underscores (_).\n",
    "\n",
    "for compute_resource in CONFIG['compute_resources']:\n",
    "    compute_resource['name'] = compute_resource['instance_type'].replace('.', '-')\n",
    "\n",
    "\n",
    "queue_settings = []\n",
    "for queue in CONFIG['queues']:\n",
    "    queue_settings.append(queue['name'])\n",
    "    instance_types_cleaned = []\n",
    "    for instance_type in queue['compute_resource_instance_types']:\n",
    "        instance_types_cleaned.append(instance_type.replace('.', '-'))\n",
    "        \n",
    "\n",
    "    queue['compute_resource_settings'] = ','.join(instance_types_cleaned)\n",
    "    print(queue)\n",
    "    \n",
    "CONFIG['queue_settings'] = ','.join(queue_settings)"
   ]
  },
  {
   "cell_type": "code",
   "execution_count": 99,
   "id": "loving-azerbaijan",
   "metadata": {},
   "outputs": [
    {
     "ename": "NameError",
     "evalue": "name 'pcluster_template' is not defined",
     "output_type": "error",
     "traceback": [
      "\u001b[0;31m---------------------------------------------------------------------------\u001b[0m",
      "\u001b[0;31mNameError\u001b[0m                                 Traceback (most recent call last)",
      "\u001b[0;32m<ipython-input-99-66dfe4796926>\u001b[0m in \u001b[0;36m<module>\u001b[0;34m\u001b[0m\n\u001b[1;32m      1\u001b[0m \u001b[0mdata\u001b[0m \u001b[0;34m=\u001b[0m \u001b[0;34m{\u001b[0m\u001b[0;34m'cookiecutter'\u001b[0m\u001b[0;34m:\u001b[0m \u001b[0mCONFIG\u001b[0m\u001b[0;34m}\u001b[0m\u001b[0;34m\u001b[0m\u001b[0;34m\u001b[0m\u001b[0m\n\u001b[0;32m----> 2\u001b[0;31m \u001b[0mrtemplate\u001b[0m \u001b[0;34m=\u001b[0m \u001b[0mEnvironment\u001b[0m\u001b[0;34m(\u001b[0m\u001b[0mloader\u001b[0m\u001b[0;34m=\u001b[0m\u001b[0mBaseLoader\u001b[0m\u001b[0;34m)\u001b[0m\u001b[0;34m.\u001b[0m\u001b[0mfrom_string\u001b[0m\u001b[0;34m(\u001b[0m\u001b[0mpcluster_template\u001b[0m\u001b[0;34m)\u001b[0m\u001b[0;34m\u001b[0m\u001b[0;34m\u001b[0m\u001b[0m\n\u001b[0m\u001b[1;32m      3\u001b[0m \u001b[0mrendered_template\u001b[0m \u001b[0;34m=\u001b[0m \u001b[0mrtemplate\u001b[0m\u001b[0;34m.\u001b[0m\u001b[0mrender\u001b[0m\u001b[0;34m(\u001b[0m\u001b[0;34m**\u001b[0m\u001b[0mdata\u001b[0m\u001b[0;34m)\u001b[0m\u001b[0;34m\u001b[0m\u001b[0;34m\u001b[0m\u001b[0m\n\u001b[1;32m      4\u001b[0m \u001b[0mprint\u001b[0m\u001b[0;34m(\u001b[0m\u001b[0mrendered_template\u001b[0m\u001b[0;34m)\u001b[0m\u001b[0;34m\u001b[0m\u001b[0;34m\u001b[0m\u001b[0m\n",
      "\u001b[0;31mNameError\u001b[0m: name 'pcluster_template' is not defined"
     ]
    }
   ],
   "source": [
    "data = {'cookiecutter': CONFIG}\n",
    "rtemplate = Environment(loader=BaseLoader).from_string(pcluster_template)\n",
    "rendered_template = rtemplate.render(**data)\n",
    "print(rendered_template)"
   ]
  },
  {
   "cell_type": "markdown",
   "id": "handmade-reproduction",
   "metadata": {},
   "source": [
    "## Get the Custom AMI ID\n",
    "\n",
    "We're using Alinux2, and we need to get the correct AMI id for the region."
   ]
  },
  {
   "cell_type": "code",
   "execution_count": 75,
   "id": "published-distinction",
   "metadata": {},
   "outputs": [
    {
     "data": {
      "text/plain": [
       "['## x86_64',\n",
       " '# alinux',\n",
       " 'af-south-1: ami-0f2e2135a05f814df',\n",
       " 'ap-east-1: ami-05ef7cb79d3a43092',\n",
       " 'ap-northeast-1: ami-006b7f4c929aaf4a9',\n",
       " 'ap-northeast-2: ami-06a49824cc501a981',\n",
       " 'ap-northeast-3: UNSUPPORTED',\n",
       " 'ap-south-1: ami-0a47fd68cf7034c58',\n",
       " 'ap-southeast-1: ami-0e6cfdde386164836',\n",
       " 'ap-southeast-2: ami-0ba7f788162c4a4de']"
      ]
     },
     "execution_count": 75,
     "metadata": {},
     "output_type": "execute_result"
    }
   ],
   "source": [
    "#AMIS_LIST\n",
    "r = requests.get(AMIS_LIST)\n",
    "amis_list = r.content.decode('UTF-8')\n",
    "amis_list = amis_list.split('\\n')\n",
    "amis_list[0:10]"
   ]
  },
  {
   "cell_type": "code",
   "execution_count": 80,
   "id": "valid-prerequisite",
   "metadata": {},
   "outputs": [
    {
     "data": {
      "text/plain": [
       "{'af-south-1': 'ami-046f49b550ce90d8a',\n",
       " 'ap-east-1': 'ami-0ec0d099b8a276aec',\n",
       " 'ap-northeast-1': 'ami-0a13402dc88c19be2',\n",
       " 'ap-northeast-2': 'ami-0bdfbd3521caa5dd2',\n",
       " 'ap-northeast-3': 'UNSUPPORTED',\n",
       " 'ap-south-1': 'ami-0059d599d21636768',\n",
       " 'ap-southeast-1': 'ami-074f58cccc7ebb68f',\n",
       " 'ap-southeast-2': 'ami-04b4a20ee9f67608f',\n",
       " 'ca-central-1': 'ami-0523a9bc4151ee96e',\n",
       " 'cn-north-1': 'ami-0a12307d2d0ddc535',\n",
       " 'cn-northwest-1': 'ami-0ef379c7fd5eb332e',\n",
       " 'eu-central-1': 'ami-07055c21834b0bc56',\n",
       " 'eu-north-1': 'ami-0fe475ca307943eb1',\n",
       " 'eu-south-1': 'ami-042fc69d71433a75c',\n",
       " 'eu-west-1': 'ami-063ac3df7f8595751',\n",
       " 'eu-west-2': 'ami-086111e12527fa455',\n",
       " 'eu-west-3': 'ami-0258a5a8320ccfa42',\n",
       " 'me-south-1': 'ami-0c98692d98eb38c50',\n",
       " 'sa-east-1': 'ami-0f463bcf6d86cad85',\n",
       " 'us-east-1': 'ami-0b71488efbe422723',\n",
       " 'us-east-2': 'ami-0075df3faa5b6e07e',\n",
       " 'us-gov-east-1': 'ami-057f7c2d5a1ca7b7d',\n",
       " 'us-gov-west-1': 'ami-01222b796bafd609f',\n",
       " 'us-west-1': 'ami-01c4b0b6d5597b80b',\n",
       " 'us-west-2': 'ami-079facc5ab3fdf701'}"
      ]
     },
     "execution_count": 80,
     "metadata": {},
     "output_type": "execute_result"
    }
   ],
   "source": [
    "alinux2_list = {}\n",
    "\n",
    "seen_x86_64 = 0\n",
    "seen_alinux2 = 0\n",
    "for line in amis_list:\n",
    "    if '## ' in line:\n",
    "        seen_x86_64 = 0\n",
    "        if 'x86_64' in line:\n",
    "            seen_x86_64 = 1\n",
    "    if '# ' in line:\n",
    "        seen_alinux2=0\n",
    "        if 'alinux2' in line:\n",
    "            seen_alinux2=1\n",
    "    else:\n",
    "        if seen_alinux2 and seen_x86_64:\n",
    "            t = line.split(': ')\n",
    "            t[0] = t[0].strip()\n",
    "            t[1] = t[1].strip()\n",
    "            alinux2_list[t[0]] = t[1]\n",
    "            \n",
    "alinux2_list"
   ]
  },
  {
   "cell_type": "code",
   "execution_count": 77,
   "id": "moderate-worthy",
   "metadata": {},
   "outputs": [
    {
     "data": {
      "text/plain": [
       "'ami-0b1f998cf2b1498db'"
      ]
     },
     "execution_count": 77,
     "metadata": {},
     "output_type": "execute_result"
    }
   ],
   "source": [
    "alinux2_list[CONFIG['aws_region']]"
   ]
  },
  {
   "cell_type": "code",
   "execution_count": 78,
   "id": "formal-nation",
   "metadata": {},
   "outputs": [
    {
     "data": {
      "text/plain": [
       "'https://raw.githubusercontent.com/aws/aws-parallelcluster/v2.10.1/amis.txt'"
      ]
     },
     "execution_count": 78,
     "metadata": {},
     "output_type": "execute_result"
    }
   ],
   "source": [
    "AMIS_LIST"
   ]
  },
  {
   "cell_type": "code",
   "execution_count": 48,
   "id": "apparent-electricity",
   "metadata": {},
   "outputs": [],
   "source": [
    "CONFIG['custom_ami_id'] = alinux2_list[CONFIG['aws_region']]"
   ]
  },
  {
   "cell_type": "markdown",
   "id": "sticky-coral",
   "metadata": {},
   "source": [
    "## Cleanup"
   ]
  },
  {
   "cell_type": "code",
   "execution_count": 49,
   "id": "dominant-transcript",
   "metadata": {},
   "outputs": [],
   "source": [
    "#os.remove(tconfig.name)"
   ]
  },
  {
   "cell_type": "code",
   "execution_count": 60,
   "id": "mighty-thompson",
   "metadata": {},
   "outputs": [],
   "source": [
    "CONFIG['custom_ami_id'] = alinux2_list[CONFIG['aws_region']]\n",
    "with open('/home/jovyan/TEST_APP/cookiecutter.json', 'w') as outfile:\n",
    "    json.dump(CONFIG, outfile, indent=4, sort_keys=True)"
   ]
  },
  {
   "cell_type": "code",
   "execution_count": 85,
   "id": "changing-september",
   "metadata": {},
   "outputs": [],
   "source": [
    "import boto3"
   ]
  },
  {
   "cell_type": "code",
   "execution_count": 104,
   "id": "bronze-logan",
   "metadata": {},
   "outputs": [
    {
     "data": {
      "text/plain": [
       "'858286506743'"
      ]
     },
     "execution_count": 104,
     "metadata": {},
     "output_type": "execute_result"
    }
   ],
   "source": [
    "sts_client = boto3.client(\"sts\")\n",
    "account_id = sts_client.get_caller_identity()[\"Account\"]\n",
    "account_id"
   ]
  },
  {
   "cell_type": "code",
   "execution_count": 88,
   "id": "colonial-nicaragua",
   "metadata": {},
   "outputs": [],
   "source": [
    "client = boto3.client('cloudformation')"
   ]
  },
  {
   "cell_type": "code",
   "execution_count": 90,
   "id": "unable-commissioner",
   "metadata": {},
   "outputs": [
    {
     "data": {
      "text/plain": [
       "{'Exports': [],\n",
       " 'ResponseMetadata': {'RequestId': '7108a5c7-b22a-4a32-bd7f-5b2d092370d6',\n",
       "  'HTTPStatusCode': 200,\n",
       "  'HTTPHeaders': {'x-amzn-requestid': '7108a5c7-b22a-4a32-bd7f-5b2d092370d6',\n",
       "   'content-type': 'text/xml',\n",
       "   'content-length': '272',\n",
       "   'date': 'Wed, 27 Jan 2021 12:19:23 GMT'},\n",
       "  'RetryAttempts': 0}}"
      ]
     },
     "execution_count": 90,
     "metadata": {},
     "output_type": "execute_result"
    }
   ],
   "source": [
    "client.list_exports()"
   ]
  },
  {
   "cell_type": "code",
   "execution_count": 112,
   "id": "postal-cedar",
   "metadata": {},
   "outputs": [],
   "source": [
    "stacks = client.describe_stacks(StackName='parallelcluster-slurm-cluster-20210127-development',)"
   ]
  },
  {
   "cell_type": "code",
   "execution_count": 116,
   "id": "split-stationery",
   "metadata": {},
   "outputs": [
    {
     "data": {
      "text/plain": [
       "1"
      ]
     },
     "execution_count": 116,
     "metadata": {},
     "output_type": "execute_result"
    }
   ],
   "source": [
    "len(stacks['Stacks'])"
   ]
  },
  {
   "cell_type": "code",
   "execution_count": 124,
   "id": "precious-regular",
   "metadata": {},
   "outputs": [
    {
     "data": {
      "text/plain": [
       "dict_keys(['StackId', 'StackName', 'Description', 'Parameters', 'CreationTime', 'RollbackConfiguration', 'StackStatus', 'DisableRollback', 'NotificationARNs', 'Capabilities', 'Outputs', 'Tags', 'EnableTerminationProtection', 'DriftInformation'])"
      ]
     },
     "execution_count": 124,
     "metadata": {},
     "output_type": "execute_result"
    }
   ],
   "source": [
    "stacks['Stacks'][0].keys()"
   ]
  },
  {
   "cell_type": "code",
   "execution_count": 122,
   "id": "reflected-helping",
   "metadata": {},
   "outputs": [
    {
     "name": "stdout",
     "output_type": "stream",
     "text": [
      "ParameterKey: MasterSubnetId\n",
      "ParameterKey: MasterRootVolumeSize\n",
      "ParameterKey: MasterInstanceType\n"
     ]
    }
   ],
   "source": [
    "for parameter in stacks['Stacks'][0]['Parameters']:\n",
    "    key = parameter['ParameterKey']\n",
    "    if 'Master' in key:\n",
    "        print('ParameterKey: {}'.format(parameter['ParameterKey']))\n",
    "    "
   ]
  },
  {
   "cell_type": "code",
   "execution_count": 125,
   "id": "established-wyoming",
   "metadata": {},
   "outputs": [
    {
     "name": "stdout",
     "output_type": "stream",
     "text": [
      "{'OutputKey': 'ArtifactS3RootDirectory', 'OutputValue': 'parallelcluster-slurm-cluster-20210127-develop-28jog97ymlhz3z72', 'Description': 'Root directory in S3 bucket where cluster artifacts are stored'}\n",
      "{'OutputKey': 'IsHITCluster', 'OutputValue': 'true'}\n",
      "{'OutputKey': 'ClusterUser', 'OutputValue': 'ec2-user', 'Description': 'Username to login to head node'}\n",
      "{'OutputKey': 'MasterPrivateIP', 'OutputValue': '172.31.97.236', 'Description': 'Private IP Address of the head node'}\n",
      "{'OutputKey': 'ResourcesS3Bucket', 'OutputValue': 'parallelcluster-p4b4uzx457i1111h', 'Description': 'S3 user bucket where AWS ParallelCluster resources are stored'}\n",
      "{'OutputKey': 'ClusterConfigMetadata', 'OutputValue': '{\"sections\": {\"cluster\": [\"default\"], \"scaling\": [\"default\"], \"vpc\": [\"default\"]}}'}\n",
      "{'OutputKey': 'GangliaPrivateURL', 'OutputValue': 'http://172.31.97.236/ganglia/', 'Description': 'Private URL to access Ganglia (disabled by default)'}\n"
     ]
    }
   ],
   "source": [
    "for output in stacks['Stacks'][0]['Outputs']:\n",
    "    print(output)\n",
    "    #key = parameter['ParameterKey']\n",
    "    #if 'Master' in key:\n",
    "    #    print('ParameterKey: {}'.format(parameter['ParameterKey']))"
   ]
  },
  {
   "cell_type": "code",
   "execution_count": 129,
   "id": "outdoor-consensus",
   "metadata": {},
   "outputs": [
    {
     "ename": "ClientError",
     "evalue": "An error occurred (ValidationError) when calling the DescribeStackResources operation: Stack with id pcluster-CleanupResources-872a7680-6096-11eb-8ea4-1266e578c117 does not exist",
     "output_type": "error",
     "traceback": [
      "\u001b[0;31m---------------------------------------------------------------------------\u001b[0m",
      "\u001b[0;31mClientError\u001b[0m                               Traceback (most recent call last)",
      "\u001b[0;32m<ipython-input-129-67d7cfd6c76b>\u001b[0m in \u001b[0;36m<module>\u001b[0;34m\u001b[0m\n\u001b[1;32m      1\u001b[0m \u001b[0mcfn\u001b[0m \u001b[0;34m=\u001b[0m \u001b[0mboto3\u001b[0m\u001b[0;34m.\u001b[0m\u001b[0mclient\u001b[0m\u001b[0;34m(\u001b[0m\u001b[0;34m'cloudformation'\u001b[0m\u001b[0;34m)\u001b[0m\u001b[0;34m\u001b[0m\u001b[0;34m\u001b[0m\u001b[0m\n\u001b[1;32m      2\u001b[0m \u001b[0mmy_stack_name\u001b[0m\u001b[0;34m=\u001b[0m\u001b[0;34m'parallelcluster-slurm-cluster-20210127-development'\u001b[0m\u001b[0;34m\u001b[0m\u001b[0;34m\u001b[0m\u001b[0m\n\u001b[0;32m----> 3\u001b[0;31m \u001b[0mlist\u001b[0m\u001b[0;34m(\u001b[0m\u001b[0mmap\u001b[0m\u001b[0;34m(\u001b[0m\u001b[0;32mlambda\u001b[0m \u001b[0mx\u001b[0m\u001b[0;34m:\u001b[0m \u001b[0mcfn\u001b[0m\u001b[0;34m.\u001b[0m\u001b[0mdescribe_stack_resources\u001b[0m\u001b[0;34m(\u001b[0m\u001b[0mStackName\u001b[0m\u001b[0;34m=\u001b[0m\u001b[0mx\u001b[0m\u001b[0;34m[\u001b[0m\u001b[0;34m'PhysicalResourceId'\u001b[0m\u001b[0;34m]\u001b[0m\u001b[0;34m)\u001b[0m\u001b[0;34m[\u001b[0m\u001b[0;34m'StackResources'\u001b[0m\u001b[0;34m]\u001b[0m\u001b[0;34m,\u001b[0m \u001b[0mcfn\u001b[0m\u001b[0;34m.\u001b[0m\u001b[0mdescribe_stack_resources\u001b[0m\u001b[0;34m(\u001b[0m\u001b[0mStackName\u001b[0m\u001b[0;34m=\u001b[0m\u001b[0mmy_stack_name\u001b[0m\u001b[0;34m)\u001b[0m\u001b[0;34m[\u001b[0m\u001b[0;34m'StackResources'\u001b[0m\u001b[0;34m]\u001b[0m\u001b[0;34m)\u001b[0m\u001b[0;34m)\u001b[0m\u001b[0;34m\u001b[0m\u001b[0;34m\u001b[0m\u001b[0m\n\u001b[0m",
      "\u001b[0;32m<ipython-input-129-67d7cfd6c76b>\u001b[0m in \u001b[0;36m<lambda>\u001b[0;34m(x)\u001b[0m\n\u001b[1;32m      1\u001b[0m \u001b[0mcfn\u001b[0m \u001b[0;34m=\u001b[0m \u001b[0mboto3\u001b[0m\u001b[0;34m.\u001b[0m\u001b[0mclient\u001b[0m\u001b[0;34m(\u001b[0m\u001b[0;34m'cloudformation'\u001b[0m\u001b[0;34m)\u001b[0m\u001b[0;34m\u001b[0m\u001b[0;34m\u001b[0m\u001b[0m\n\u001b[1;32m      2\u001b[0m \u001b[0mmy_stack_name\u001b[0m\u001b[0;34m=\u001b[0m\u001b[0;34m'parallelcluster-slurm-cluster-20210127-development'\u001b[0m\u001b[0;34m\u001b[0m\u001b[0;34m\u001b[0m\u001b[0m\n\u001b[0;32m----> 3\u001b[0;31m \u001b[0mlist\u001b[0m\u001b[0;34m(\u001b[0m\u001b[0mmap\u001b[0m\u001b[0;34m(\u001b[0m\u001b[0;32mlambda\u001b[0m \u001b[0mx\u001b[0m\u001b[0;34m:\u001b[0m \u001b[0mcfn\u001b[0m\u001b[0;34m.\u001b[0m\u001b[0mdescribe_stack_resources\u001b[0m\u001b[0;34m(\u001b[0m\u001b[0mStackName\u001b[0m\u001b[0;34m=\u001b[0m\u001b[0mx\u001b[0m\u001b[0;34m[\u001b[0m\u001b[0;34m'PhysicalResourceId'\u001b[0m\u001b[0;34m]\u001b[0m\u001b[0;34m)\u001b[0m\u001b[0;34m[\u001b[0m\u001b[0;34m'StackResources'\u001b[0m\u001b[0;34m]\u001b[0m\u001b[0;34m,\u001b[0m \u001b[0mcfn\u001b[0m\u001b[0;34m.\u001b[0m\u001b[0mdescribe_stack_resources\u001b[0m\u001b[0;34m(\u001b[0m\u001b[0mStackName\u001b[0m\u001b[0;34m=\u001b[0m\u001b[0mmy_stack_name\u001b[0m\u001b[0;34m)\u001b[0m\u001b[0;34m[\u001b[0m\u001b[0;34m'StackResources'\u001b[0m\u001b[0;34m]\u001b[0m\u001b[0;34m)\u001b[0m\u001b[0;34m)\u001b[0m\u001b[0;34m\u001b[0m\u001b[0;34m\u001b[0m\u001b[0m\n\u001b[0m",
      "\u001b[0;32m/opt/conda/lib/python3.8/site-packages/botocore/client.py\u001b[0m in \u001b[0;36m_api_call\u001b[0;34m(self, *args, **kwargs)\u001b[0m\n\u001b[1;32m    355\u001b[0m                     \"%s() only accepts keyword arguments.\" % py_operation_name)\n\u001b[1;32m    356\u001b[0m             \u001b[0;31m# The \"self\" in this scope is referring to the BaseClient.\u001b[0m\u001b[0;34m\u001b[0m\u001b[0;34m\u001b[0m\u001b[0;34m\u001b[0m\u001b[0m\n\u001b[0;32m--> 357\u001b[0;31m             \u001b[0;32mreturn\u001b[0m \u001b[0mself\u001b[0m\u001b[0;34m.\u001b[0m\u001b[0m_make_api_call\u001b[0m\u001b[0;34m(\u001b[0m\u001b[0moperation_name\u001b[0m\u001b[0;34m,\u001b[0m \u001b[0mkwargs\u001b[0m\u001b[0;34m)\u001b[0m\u001b[0;34m\u001b[0m\u001b[0;34m\u001b[0m\u001b[0m\n\u001b[0m\u001b[1;32m    358\u001b[0m \u001b[0;34m\u001b[0m\u001b[0m\n\u001b[1;32m    359\u001b[0m         \u001b[0m_api_call\u001b[0m\u001b[0;34m.\u001b[0m\u001b[0m__name__\u001b[0m \u001b[0;34m=\u001b[0m \u001b[0mstr\u001b[0m\u001b[0;34m(\u001b[0m\u001b[0mpy_operation_name\u001b[0m\u001b[0;34m)\u001b[0m\u001b[0;34m\u001b[0m\u001b[0;34m\u001b[0m\u001b[0m\n",
      "\u001b[0;32m/opt/conda/lib/python3.8/site-packages/botocore/client.py\u001b[0m in \u001b[0;36m_make_api_call\u001b[0;34m(self, operation_name, api_params)\u001b[0m\n\u001b[1;32m    674\u001b[0m             \u001b[0merror_code\u001b[0m \u001b[0;34m=\u001b[0m \u001b[0mparsed_response\u001b[0m\u001b[0;34m.\u001b[0m\u001b[0mget\u001b[0m\u001b[0;34m(\u001b[0m\u001b[0;34m\"Error\"\u001b[0m\u001b[0;34m,\u001b[0m \u001b[0;34m{\u001b[0m\u001b[0;34m}\u001b[0m\u001b[0;34m)\u001b[0m\u001b[0;34m.\u001b[0m\u001b[0mget\u001b[0m\u001b[0;34m(\u001b[0m\u001b[0;34m\"Code\"\u001b[0m\u001b[0;34m)\u001b[0m\u001b[0;34m\u001b[0m\u001b[0;34m\u001b[0m\u001b[0m\n\u001b[1;32m    675\u001b[0m             \u001b[0merror_class\u001b[0m \u001b[0;34m=\u001b[0m \u001b[0mself\u001b[0m\u001b[0;34m.\u001b[0m\u001b[0mexceptions\u001b[0m\u001b[0;34m.\u001b[0m\u001b[0mfrom_code\u001b[0m\u001b[0;34m(\u001b[0m\u001b[0merror_code\u001b[0m\u001b[0;34m)\u001b[0m\u001b[0;34m\u001b[0m\u001b[0;34m\u001b[0m\u001b[0m\n\u001b[0;32m--> 676\u001b[0;31m             \u001b[0;32mraise\u001b[0m \u001b[0merror_class\u001b[0m\u001b[0;34m(\u001b[0m\u001b[0mparsed_response\u001b[0m\u001b[0;34m,\u001b[0m \u001b[0moperation_name\u001b[0m\u001b[0;34m)\u001b[0m\u001b[0;34m\u001b[0m\u001b[0;34m\u001b[0m\u001b[0m\n\u001b[0m\u001b[1;32m    677\u001b[0m         \u001b[0;32melse\u001b[0m\u001b[0;34m:\u001b[0m\u001b[0;34m\u001b[0m\u001b[0;34m\u001b[0m\u001b[0m\n\u001b[1;32m    678\u001b[0m             \u001b[0;32mreturn\u001b[0m \u001b[0mparsed_response\u001b[0m\u001b[0;34m\u001b[0m\u001b[0;34m\u001b[0m\u001b[0m\n",
      "\u001b[0;31mClientError\u001b[0m: An error occurred (ValidationError) when calling the DescribeStackResources operation: Stack with id pcluster-CleanupResources-872a7680-6096-11eb-8ea4-1266e578c117 does not exist"
     ]
    }
   ],
   "source": [
    "cfn = boto3.client('cloudformation')\n",
    "my_stack_name='parallelcluster-slurm-cluster-20210127-development'\n",
    "list(map(lambda x: cfn.describe_stack_resources(StackName=x['PhysicalResourceId'])['StackResources'], cfn.describe_stack_resources(StackName=my_stack_name)['StackResources']))"
   ]
  },
  {
   "cell_type": "code",
   "execution_count": 131,
   "id": "opened-enterprise",
   "metadata": {},
   "outputs": [],
   "source": [
    "stack_resources = cfn.describe_stack_resources(StackName=my_stack_name)['StackResources']"
   ]
  },
  {
   "cell_type": "code",
   "execution_count": 132,
   "id": "maritime-collector",
   "metadata": {},
   "outputs": [
    {
     "data": {
      "text/plain": [
       "{'StackName': 'parallelcluster-slurm-cluster-20210127-development',\n",
       " 'StackId': 'arn:aws:cloudformation:us-east-1:858286506743:stack/parallelcluster-slurm-cluster-20210127-development/872a7680-6096-11eb-8ea4-1266e578c117',\n",
       " 'LogicalResourceId': 'CleanupResourcesFunction',\n",
       " 'PhysicalResourceId': 'pcluster-CleanupResources-872a7680-6096-11eb-8ea4-1266e578c117',\n",
       " 'ResourceType': 'AWS::Lambda::Function',\n",
       " 'Timestamp': datetime.datetime(2021, 1, 27, 11, 55, 47, 332000, tzinfo=tzlocal()),\n",
       " 'ResourceStatus': 'CREATE_COMPLETE',\n",
       " 'DriftInformation': {'StackResourceDriftStatus': 'NOT_CHECKED'}}"
      ]
     },
     "execution_count": 132,
     "metadata": {},
     "output_type": "execute_result"
    }
   ],
   "source": [
    "stack_resources[0]"
   ]
  },
  {
   "cell_type": "code",
   "execution_count": null,
   "id": "drawn-chase",
   "metadata": {},
   "outputs": [],
   "source": []
  }
 ],
 "metadata": {
  "kernelspec": {
   "display_name": "Python 3",
   "language": "python",
   "name": "python3"
  },
  "language_info": {
   "codemirror_mode": {
    "name": "ipython",
    "version": 3
   },
   "file_extension": ".py",
   "mimetype": "text/x-python",
   "name": "python",
   "nbconvert_exporter": "python",
   "pygments_lexer": "ipython3",
   "version": "3.8.6"
  }
 },
 "nbformat": 4,
 "nbformat_minor": 5
}
